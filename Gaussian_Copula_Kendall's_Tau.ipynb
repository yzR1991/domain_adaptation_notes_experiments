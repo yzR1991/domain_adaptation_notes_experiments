{
  "nbformat": 4,
  "nbformat_minor": 0,
  "metadata": {
    "colab": {
      "name": "Gaussian Copula-Kendall's Tau.ipynb",
      "provenance": [],
      "collapsed_sections": [],
      "authorship_tag": "ABX9TyMycVQSDXJRBPHPqUIejUZx",
      "include_colab_link": true
    },
    "kernelspec": {
      "display_name": "Python 3",
      "name": "python3"
    }
  },
  "cells": [
    {
      "cell_type": "markdown",
      "metadata": {
        "id": "view-in-github",
        "colab_type": "text"
      },
      "source": [
        "<a href=\"https://colab.research.google.com/github/yzR1991/domain_adaptation_notes_experiments/blob/main/Gaussian_Copula_Kendall's_Tau.ipynb\" target=\"_parent\"><img src=\"https://colab.research.google.com/assets/colab-badge.svg\" alt=\"Open In Colab\"/></a>"
      ]
    },
    {
      "cell_type": "code",
      "metadata": {
        "id": "62kVxybZQvvh"
      },
      "source": [
        "import numpy as np\n",
        "import pandas as pd\n",
        "import torch\n",
        "import torch.nn as nn\n",
        "import torch.utils.data as Data\n",
        "from torch.autograd import Variable\n",
        "import time\n",
        "import random\n",
        "import math\n",
        "import scipy.stats\n",
        "from matplotlib import pyplot as plt\n",
        "from sklearn.preprocessing import MinMaxScaler\n",
        "from sklearn.metrics import mean_squared_error"
      ],
      "execution_count": null,
      "outputs": []
    },
    {
      "cell_type": "code",
      "metadata": {
        "id": "EQjrW5jeIkts"
      },
      "source": [
        "from scipy.integrate import dblquad"
      ],
      "execution_count": null,
      "outputs": []
    },
    {
      "cell_type": "code",
      "metadata": {
        "colab": {
          "base_uri": "https://localhost:8080/"
        },
        "id": "0KJKDEofIze3",
        "outputId": "9b87493c-d49a-45dd-800d-cdcda53137ae"
      },
      "source": [
        "v,e = dblquad(lambda x,y: 2 / (x*y*(x+y-1)**3), 1, np.infty, 1, np.infty)\n",
        "print(v)"
      ],
      "execution_count": null,
      "outputs": [
        {
          "output_type": "stream",
          "text": [
            "0.2898681325313279\n"
          ],
          "name": "stdout"
        }
      ]
    },
    {
      "cell_type": "code",
      "metadata": {
        "colab": {
          "base_uri": "https://localhost:8080/"
        },
        "id": "8gFXZCRPJZ8W",
        "outputId": "add2f4d2-5488-4881-aa39-058e1e3b7cb3"
      },
      "source": [
        "res = []\n",
        "for t in np.linspace(0.1,10,num=100,endpoint=True):\n",
        "    cur, err = dblquad(lambda x,y: (1+t)/(t**2 * x**(1/t) * y**(1/t) * (x+y-1)**(2+1/t)), 1, np.infty, 1, np.infty)\n",
        "    res.append(cur)"
      ],
      "execution_count": null,
      "outputs": [
        {
          "output_type": "stream",
          "text": [
            "/usr/local/lib/python3.7/dist-packages/scipy/integrate/quadpack.py:865: IntegrationWarning: The maximum number of subdivisions (50) has been achieved.\n",
            "  If increasing the limit yields no improvement it is advised to analyze \n",
            "  the integrand in order to determine the difficulties.  If the position of a \n",
            "  local difficulty can be determined (singularity, discontinuity) one will \n",
            "  probably gain from splitting up the interval and calling the integrator \n",
            "  on the subranges.  Perhaps a special-purpose integrator should be used.\n",
            "  **opt)\n",
            "/usr/local/lib/python3.7/dist-packages/scipy/integrate/quadpack.py:865: IntegrationWarning: The integral is probably divergent, or slowly convergent.\n",
            "  **opt)\n",
            "/usr/local/lib/python3.7/dist-packages/scipy/integrate/quadpack.py:865: IntegrationWarning: The algorithm does not converge.  Roundoff error is detected\n",
            "  in the extrapolation table.  It is assumed that the requested tolerance\n",
            "  cannot be achieved, and that the returned result (if full_output = 1) is \n",
            "  the best which can be obtained.\n",
            "  **opt)\n"
          ],
          "name": "stderr"
        }
      ]
    },
    {
      "cell_type": "code",
      "metadata": {
        "colab": {
          "base_uri": "https://localhost:8080/",
          "height": 265
        },
        "id": "KW3JUiSTL0mi",
        "outputId": "74037743-0ae8-4a0d-8ade-64e533fcaeb2"
      },
      "source": [
        "res = np.array(res)\n",
        "plt.plot(res,label=\"Integral of uv*c(u,v)\")\n",
        "plt.legend()\n",
        "plt.show()"
      ],
      "execution_count": null,
      "outputs": [
        {
          "output_type": "display_data",
          "data": {
            "image/png": "[encoded data removed]",
            "text/plain": [
              "<Figure size 432x288 with 1 Axes>"
            ]
          },
          "metadata": {
            "tags": [],
            "needs_background": "light"
          }
        }
      ]
    },
    {
      "cell_type": "markdown",
      "metadata": {
        "id": "l8qX_gx90Mgb"
      },
      "source": [
        "###Test replacement of sign by tanh via Kendall's tau"
      ]
    },
    {
      "cell_type": "code",
      "metadata": {
        "id": "R3E-7ct31NIn"
      },
      "source": [
        "size = 10000\n",
        "a = 10\n",
        "\n",
        "def KT(x,y):\n",
        "    x_a, x_b = x[:size//2], x[size//2:]\n",
        "    y_a, y_b = y[:size//2], y[size//2:]\n",
        "    res_1 = np.mean(np.sign((x_a - x_b)*(y_a - y_b)))\n",
        "    res_2 = np.mean(np.tanh(a * (x_a - x_b)*(y_a - y_b)))\n",
        "    return res_1, res_2"
      ],
      "execution_count": null,
      "outputs": []
    },
    {
      "cell_type": "code",
      "metadata": {
        "id": "G5RJpqe_4B2B"
      },
      "source": [
        "signs = []\n",
        "tanhs = []\n",
        "for t in np.linspace(-1,1,100):\n",
        "    rv = scipy.stats.multivariate_normal.rvs(cov=[[1,t],[t,1]],size=size)\n",
        "    aa, bb = KT(rv.T[0],rv.T[1])\n",
        "    sign, tanh = np.sin(aa*np.pi/2), np.sin(np.pi*bb/2)\n",
        "    signs.append(sign)\n",
        "    tanhs.append(tanh)\n",
        "signs = np.array(signs)\n",
        "tanhs = np.array(tanhs)"
      ],
      "execution_count": null,
      "outputs": []
    },
    {
      "cell_type": "code",
      "metadata": {
        "colab": {
          "base_uri": "https://localhost:8080/",
          "height": 265
        },
        "id": "Nr1kxnXl4tJm",
        "outputId": "9fcd11cb-8bdb-4559-839b-8eb18d326b5c"
      },
      "source": [
        "plt.plot(signs, label=\"sign\")\n",
        "plt.plot(tanhs, label=\"tanh_10\")\n",
        "plt.legend()\n",
        "plt.show()"
      ],
      "execution_count": null,
      "outputs": [
        {
          "output_type": "display_data",
          "data": {
            "image/png": "[encoded data removed]",
            "text/plain": [
              "<Figure size 432x288 with 1 Axes>"
            ]
          },
          "metadata": {
            "tags": [],
            "needs_background": "light"
          }
        }
      ]
    },
    {
      "cell_type": "markdown",
      "metadata": {
        "id": "CXB3Kp4NOLcY"
      },
      "source": [
        "#Modified Domain Adaptation by Kendall's tau"
      ]
    },
    {
      "cell_type": "code",
      "metadata": {
        "id": "4lfStW66OO3J"
      },
      "source": [
        "class DANN(nn.Module):\n",
        "    def __init__(self, input_dim, hidden_dim, output_dim, drop_rate=0.1):\n",
        "        super(DANN, self).__init__()\n",
        "        self.layer1 = nn.Sequential(nn.BatchNorm1d(input_dim), nn.Linear(input_dim, hidden_dim), nn.ReLU())\n",
        "        self.layer2 = nn.Sequential(nn.BatchNorm1d(hidden_dim), nn.Linear(hidden_dim, hidden_dim // 4), nn.ReLU())\n",
        "        self.layer3 = nn.Sequential(nn.BatchNorm1d(hidden_dim // 4), nn.Linear(hidden_dim // 4, output_dim))#, nn.ReLU())\n",
        "        # self.layer4 = nn.Sequential(nn.BatchNorm1d(hidden_dim // 4), nn.Linear(hidden_dim // 4, output_dim))\n",
        "    \n",
        "    def forward(self, x, y):\n",
        "        \"\"\"\n",
        "        Extract common features\n",
        "        Then calculate marginal divergences and the copula distance\n",
        "        \"\"\"\n",
        "        x,y = self.layer1(x), self.layer1(y)\n",
        "        x,y = self.layer2(x), self.layer2(y)\n",
        "        # x,y = self.layer3(x), self.layer3(y)\n",
        "        marginal_div = self.marginal_div(x, y)\n",
        "        copula_distance = self.copula_distance(x, y)\n",
        "        x = self.layer3(x)\n",
        "        # x = nn.functional.softmax(x, dim=1)\n",
        "        return marginal_div, copula_distance, x\n",
        "\n",
        "    def gaussian_kernel(self, source, target, kernel_mul=2.0, kernel_num=2, fix_sigma=1.0):\n",
        "        n_samples = int(source.size()[0])+int(target.size()[0])\n",
        "        total = torch.cat([source, target], dim=0)\n",
        "        total0 = total.unsqueeze(0).expand(int(total.size(0)), int(total.size(0)), int(total.size(1)))\n",
        "        total1 = total.unsqueeze(1).expand(int(total.size(0)), int(total.size(0)), int(total.size(1)))\n",
        "        L2_distance = ((total0-total1)**2).sum(2)\n",
        "        if fix_sigma:\n",
        "            bandwidth = fix_sigma\n",
        "        else:\n",
        "            bandwidth = torch.sum(L2_distance.data) / (n_samples**2-n_samples)\n",
        "        bandwidth /= kernel_mul ** (kernel_num // 2)\n",
        "        bandwidth_list = [bandwidth * (kernel_mul**i) for i in range(kernel_num)]\n",
        "        kernel_val = [torch.exp(-L2_distance / bandwidth_temp) for bandwidth_temp in bandwidth_list]\n",
        "        kernels = sum(kernel_val)\n",
        "        batch_size = int(source.size()[0])\n",
        "        XX = kernels[:batch_size, :batch_size]\n",
        "        YY = kernels[batch_size:, batch_size:]\n",
        "        XY = kernels[:batch_size, batch_size:]\n",
        "        YX = kernels[batch_size:, :batch_size] \n",
        "        loss = torch.mean(XX + YY - XY -YX)\n",
        "        return loss\n",
        "    \n",
        "    def predict(self, y):\n",
        "        y = self.layer1(y)\n",
        "        y = self.layer2(y)\n",
        "        y = self.layer3(y)\n",
        "        # y = self.layer4(y)\n",
        "        return y\n",
        "\n",
        "    def marginal_div(self, x, y):\n",
        "        \"\"\"\n",
        "        Calculate the summation of marginal divergences\n",
        "        For each column vector of 1-dim, change it to a 2-dim matrix first\n",
        "        Then apply the gaussian kernel function \n",
        "        \"\"\"\n",
        "        md = 0\n",
        "        for i in range(x.shape[1]):\n",
        "            md += self.gaussian_kernel(x[:,i].view(x.shape[0],1), y[:,i].view(y.shape[0],1))\n",
        "        return md\n",
        "    \n",
        "    def Kendall_tau(self, x, y, size):\n",
        "        x_a, x_b = x[:size], x[size:2*size]\n",
        "        y_a, y_b = y[:size], y[size:2*size]\n",
        "        res = torch.tanh(5*(x_a - x_b) * (y_a - y_b))\n",
        "        return torch.mean(res)\n",
        "\n",
        "    def copula_distance(self, x, y):\n",
        "        \"\"\"\n",
        "        First we use Kendall's tau to estimate parameters of gaussian copula,\n",
        "        namely the correlation matrix,\n",
        "        where torch.sign() is replaced by torch.tanh()\n",
        "        Then the distance between two copulas is given by\n",
        "        the Frobenius norm of the differences between correlation matrices\n",
        "        \"\"\"\n",
        "        size = x.shape[0] // 2\n",
        "        cd = 0\n",
        "        for i in range(x.shape[1]-1):\n",
        "            for j in range(i,x.shape[1]):\n",
        "                # calculate ij-th entries of x,y copulas\n",
        "                cx_ij = self.Kendall_tau(x[:,i], x[:,j], size)\n",
        "                cy_ij = self.Kendall_tau(y[:,i], y[:,j], size)\n",
        "                cd += 2*(cx_ij - cy_ij)**2\n",
        "        return torch.sqrt(cd)"
      ],
      "execution_count": null,
      "outputs": []
    },
    {
      "cell_type": "markdown",
      "metadata": {
        "id": "TBs4YTYUbete"
      },
      "source": [
        "##FBM experiment"
      ]
    },
    {
      "cell_type": "markdown",
      "metadata": {
        "id": "hqh_Gsjhbjod"
      },
      "source": [
        "###generating data"
      ]
    },
    {
      "cell_type": "code",
      "metadata": {
        "colab": {
          "base_uri": "https://localhost:8080/"
        },
        "id": "IsDclJ3AbiHe",
        "outputId": "49bc9379-9e71-4bfd-a108-c0ef6ff238f2"
      },
      "source": [
        "!pip install fbm"
      ],
      "execution_count": null,
      "outputs": [
        {
          "output_type": "stream",
          "text": [
            "Collecting fbm\n",
            "  Downloading https://files.pythonhosted.org/packages/16/f8/f103aa4947ae83ce8e91c448c284ac71b88e449e5418c7baff69c7c51624/fbm-0.3.0-py2.py3-none-any.whl\n",
            "Requirement already satisfied: numpy in /usr/local/lib/python3.7/dist-packages (from fbm) (1.19.5)\n",
            "Installing collected packages: fbm\n",
            "Successfully installed fbm-0.3.0\n"
          ],
          "name": "stdout"
        }
      ]
    },
    {
      "cell_type": "code",
      "metadata": {
        "id": "n_kG24awzK62"
      },
      "source": [
        "import fbm"
      ],
      "execution_count": null,
      "outputs": []
    },
    {
      "cell_type": "code",
      "metadata": {
        "id": "zAygRCITzZ2j"
      },
      "source": [
        "def generate_fBM(n_paths, n_samples, hurst_exponents):\n",
        "    \"\"\"\n",
        "    generate FBM paths\n",
        "    \"\"\"\n",
        "    X = []\n",
        "    y = []\n",
        "    for j in range(n_paths):\n",
        "        hurst = random.choice(hurst_exponents)\n",
        "        X.append(fbm.FBM(n=n_samples, hurst=hurst, length=1, method='daviesharte').fbm())\n",
        "        y.append(hurst)\n",
        "    return np.array(X), np.array(y)\n",
        "\n",
        "def generate_data(n_paths_train, n_paths_test, n_samples, hurst_exponents):\n",
        "    \"\"\"\n",
        "    generate train and test datasets\n",
        "    \"\"\"\n",
        "    x_train, y_train = generate_fBM(n_paths_train, n_samples, hurst_exponents)\n",
        "    x_test, y_test = generate_fBM(n_paths_test, n_samples, hurst_exponents)\n",
        "\n",
        "    y_train = np.expand_dims(y_train, axis=1)\n",
        "    y_test = np.expand_dims(y_test, axis=1)\n",
        "\n",
        "    return x_train, y_train, x_test, y_test"
      ],
      "execution_count": null,
      "outputs": []
    },
    {
      "cell_type": "code",
      "metadata": {
        "colab": {
          "base_uri": "https://localhost:8080/"
        },
        "id": "3wUn1fYd5ANu",
        "outputId": "887a272b-3e74-4810-de27-68044567c1ba"
      },
      "source": [
        "n_paths = 1000\n",
        "n_samples = 100\n",
        "\n",
        "hurst_train = [0.1,0.2,0.3,0.4,0.5,0.6,0.7,0.8,0.9]\n",
        "hurst_test = [0.4,0.5,0.6,0.7]\n",
        "\n",
        "x_train, y_train = generate_fBM(n_paths=n_paths, n_samples=n_samples, hurst_exponents=hurst_train)\n",
        "x_test, y_test = generate_fBM(n_paths=n_paths, n_samples=n_samples, hurst_exponents=hurst_test)"
      ],
      "execution_count": null,
      "outputs": [
        {
          "output_type": "stream",
          "text": [
            "/usr/local/lib/python3.7/dist-packages/fbm/fbm.py:172: UserWarning: Combination of increments n and Hurst value H invalid for Davies-Harte method. Reverting to Hosking method. Occurs when n is small and Hurst is close to 1. \n",
            "  \"Combination of increments n and Hurst value H \"\n"
          ],
          "name": "stderr"
        }
      ]
    },
    {
      "cell_type": "code",
      "metadata": {
        "id": "ebpt3xxO-fM_"
      },
      "source": [
        "y_train = y_train.reshape(-1,1)\n",
        "y_test = y_test.reshape(-1,1)"
      ],
      "execution_count": null,
      "outputs": []
    },
    {
      "cell_type": "code",
      "metadata": {
        "id": "XP8fTqxnAbNp"
      },
      "source": [
        "x_train = torch.from_numpy(x_train).float()\n",
        "x_test = torch.from_numpy(x_test).float()\n",
        "y_train = torch.from_numpy(y_train).float()\n",
        "y_test = torch.from_numpy(y_test).float()"
      ],
      "execution_count": null,
      "outputs": []
    },
    {
      "cell_type": "markdown",
      "metadata": {
        "id": "x6eoIWIHch7H"
      },
      "source": [
        "###LET'S GO!"
      ]
    },
    {
      "cell_type": "code",
      "metadata": {
        "id": "949uNS-PcmGN"
      },
      "source": [
        "model = DANN(input_dim = n_samples + 1, hidden_dim = 32, output_dim = 1)\n",
        "\n",
        "loss_fn = torch.nn.MSELoss()\n",
        "\n",
        "optimiser = torch.optim.Adam(model.parameters(), lr=0.01)"
      ],
      "execution_count": null,
      "outputs": []
    },
    {
      "cell_type": "code",
      "metadata": {
        "colab": {
          "base_uri": "https://localhost:8080/"
        },
        "id": "xK_vET8qeD5n",
        "outputId": "02b5ff0d-6cb7-45d9-b3ab-027bffb6a838"
      },
      "source": [
        "start = time.time()\n",
        "\n",
        "n_epoch = 100\n",
        "\n",
        "endurance = 40\n",
        "\n",
        "hist = []\n",
        "\n",
        "train_hist = []\n",
        "\n",
        "test_hist = []\n",
        "\n",
        "train_accuracies = []\n",
        "test_accuracies = []\n",
        "\n",
        "divergences = []\n",
        "copula_distances = []\n",
        "\n",
        "trade_off = 100\n",
        "\n",
        "count = 0\n",
        "\n",
        "best_loss = 1e4\n",
        "\n",
        "for t in range(n_epoch):\n",
        "\n",
        "    marginal_divergence, copula_distance, y_train_pred = model(x_train, x_test)\n",
        "    y_test_pred = model.predict(x_test)\n",
        "\n",
        "    loss_train = loss_fn(y_train_pred, y_train)\n",
        "    loss_test = loss_fn(y_test_pred, y_test)\n",
        "\n",
        "    loss = trade_off * loss_train + (marginal_divergence + copula_distance) / trade_off\n",
        "\n",
        "    # train_index_pred = torch.max(y_train_pred, dim=1)[1].data.numpy()\n",
        "    # train_acc = sum(train_index_pred == y_train.detach().numpy()) / n_paths\n",
        "\n",
        "    # test_index_pred = torch.max(y_test_pred, dim=1)[1].data.numpy()\n",
        "    # test_acc = sum(test_index_pred == y_test.detach().numpy()) / n_paths\n",
        "\n",
        "    # train_accuracies.append(train_acc.item())\n",
        "    # test_accuracies.append(test_acc.item())\n",
        "\n",
        "    if t % 10 == 0 and t !=0:\n",
        "        # print(\"Epoch \", t, \"Train Acc: \", train_acc, \"Test Acc: \", test_acc)\n",
        "        print(\"Epoch \", t, \"Train MSE: \", loss_train.item(), \"Test MSE: \", loss_test.item(), \"Marginal Divergence: \", marginal_divergence.item(), \"Copula Distance: \", copula_distance.item())\n",
        "    \n",
        "    train_hist.append(loss_train.item())\n",
        "    test_hist.append(loss_test.item())\n",
        "    hist.append(loss.item())\n",
        "    divergences.append(marginal_divergence)\n",
        "    copula_distances.append(copula_distance)\n",
        "\n",
        "    if loss_train.item() + loss_test.item() < best_loss:\n",
        "        count = 0\n",
        "        best_loss = loss_train.item() + loss_test.item()\n",
        "    else:\n",
        "        count += 1\n",
        "\n",
        "    if count >= endurance:\n",
        "        print('Early stop at {}-th training with best MSE {}'.format(t, best_loss))\n",
        "        break\n",
        "\n",
        "    optimiser.zero_grad()\n",
        "    loss.backward()\n",
        "    optimiser.step()\n",
        "\n",
        "end = time.time()\n",
        "print(\"Model training costs: \", end - start)"
      ],
      "execution_count": null,
      "outputs": [
        {
          "output_type": "stream",
          "text": [
            "Epoch  10 Train MSE:  0.22248388826847076 Test MSE:  0.1983317881822586 Marginal Divergence:  791.42138671875 Copula Distance:  0.7253196239471436\n",
            "Epoch  20 Train MSE:  0.09493615478277206 Test MSE:  0.042419612407684326 Marginal Divergence:  266.7158508300781 Copula Distance:  10.83121109008789\n",
            "Epoch  30 Train MSE:  0.0700947493314743 Test MSE:  0.015640858560800552 Marginal Divergence:  83.76901245117188 Copula Distance:  5.608154773712158\n",
            "Epoch  40 Train MSE:  0.062349747866392136 Test MSE:  0.015771042555570602 Marginal Divergence:  53.33094787597656 Copula Distance:  5.509021282196045\n",
            "Epoch  50 Train MSE:  0.05966901034116745 Test MSE:  0.013069846667349339 Marginal Divergence:  50.40558624267578 Copula Distance:  5.521759986877441\n",
            "Epoch  60 Train MSE:  0.05708286166191101 Test MSE:  0.013162954710423946 Marginal Divergence:  56.78923797607422 Copula Distance:  7.7647480964660645\n",
            "Epoch  70 Train MSE:  0.054904233664274216 Test MSE:  0.012254551984369755 Marginal Divergence:  64.31375122070312 Copula Distance:  8.218277931213379\n",
            "Epoch  80 Train MSE:  0.053131453692913055 Test MSE:  0.012056767009198666 Marginal Divergence:  69.01152038574219 Copula Distance:  9.28524112701416\n",
            "Epoch  90 Train MSE:  0.051358338445425034 Test MSE:  0.011749244295060635 Marginal Divergence:  74.55521392822266 Copula Distance:  10.184569358825684\n",
            "Model training costs:  50.266666412353516\n"
          ],
          "name": "stdout"
        }
      ]
    },
    {
      "cell_type": "code",
      "metadata": {
        "colab": {
          "base_uri": "https://localhost:8080/"
        },
        "id": "yGBrJoSBnsoZ",
        "outputId": "b3a34b42-9146-4dcc-e62c-9a2523deb66d"
      },
      "source": [
        "torch.mean(y_train)"
      ],
      "execution_count": null,
      "outputs": [
        {
          "output_type": "execute_result",
          "data": {
            "text/plain": [
              "tensor(0.4940)"
            ]
          },
          "metadata": {
            "tags": []
          },
          "execution_count": 187
        }
      ]
    },
    {
      "cell_type": "code",
      "metadata": {
        "id": "3dJ2a9c5lOHY"
      },
      "source": [
        "y_train_pred"
      ],
      "execution_count": null,
      "outputs": []
    },
    {
      "cell_type": "code",
      "metadata": {
        "id": "aoJ7ZeDojy-z"
      },
      "source": [
        "x = model.layer1(x_train)\n",
        "x = model.layer2(x)\n",
        "x = model.layer3(x)"
      ],
      "execution_count": null,
      "outputs": []
    },
    {
      "cell_type": "code",
      "metadata": {
        "colab": {
          "base_uri": "https://localhost:8080/"
        },
        "id": "4FJQ8Lf1kvmC",
        "outputId": "3cf12192-d2f2-409f-dcd0-354778578883"
      },
      "source": [
        "x"
      ],
      "execution_count": null,
      "outputs": [
        {
          "output_type": "execute_result",
          "data": {
            "text/plain": [
              "tensor([[0.0000, 0.0000, 0.0000,  ..., 0.0000, 1.1133, 0.0000],\n",
              "        [0.0000, 0.0000, 0.0000,  ..., 0.0000, 1.0954, 0.0000],\n",
              "        [0.0000, 0.0000, 0.0000,  ..., 0.0000, 1.1200, 0.0000],\n",
              "        ...,\n",
              "        [0.0000, 0.0000, 0.0000,  ..., 0.0000, 1.0934, 0.0000],\n",
              "        [0.0000, 0.0000, 0.0000,  ..., 0.0000, 1.1299, 0.0000],\n",
              "        [0.0000, 0.0000, 0.0000,  ..., 0.0000, 1.0445, 0.0000]],\n",
              "       grad_fn=<ReluBackward0>)"
            ]
          },
          "metadata": {
            "tags": []
          },
          "execution_count": 199
        }
      ]
    },
    {
      "cell_type": "markdown",
      "metadata": {
        "id": "z6Ugcq-tGfEU"
      },
      "source": [
        "#Experiment on Synthetic Data"
      ]
    },
    {
      "cell_type": "markdown",
      "metadata": {
        "id": "eNt_v5zkB6n7"
      },
      "source": [
        "source: (a,b,c), label $\\Phi(1-(a+b+c))$.\n",
        "target: $(\\lambda_1*a,b,\\lambda_2*e^{-c})$. target hidden label $\\Phi(1-(\\lambda_1*a+b+\\lambda_2*e^{-c}))$.\n",
        "\n",
        "The distributions are as follow. $a$ normal, $b$ student-t, $c$ gamma, and the copula is Gaussian. So we generate $(z_1,z_2,z_3)$ by a multivariate normal distribution at first, then use it to generate a meta Gaussian distribution."
      ]
    },
    {
      "cell_type": "markdown",
      "metadata": {
        "id": "qsO67MUxPhhY"
      },
      "source": [
        "##Generating synthetic train/test data"
      ]
    },
    {
      "cell_type": "code",
      "metadata": {
        "id": "B1vmXkCcOckM"
      },
      "source": [
        "size = 10000\n",
        "lambda_1 = 1\n",
        "lambda_2 = 5"
      ],
      "execution_count": null,
      "outputs": []
    },
    {
      "cell_type": "code",
      "metadata": {
        "id": "kU2PcvbMJ9dA"
      },
      "source": [
        "mnormal = scipy.stats.multivariate_normal.rvs(cov=[[1,0.5,0.1],[0.5,1,-0.5],[0.1,-0.5,1]],size=size)"
      ],
      "execution_count": null,
      "outputs": []
    },
    {
      "cell_type": "code",
      "metadata": {
        "id": "CZMoKGBtLOT8"
      },
      "source": [
        "a = mnormal[:,0]"
      ],
      "execution_count": null,
      "outputs": []
    },
    {
      "cell_type": "code",
      "metadata": {
        "id": "Tyml5eggLzGU"
      },
      "source": [
        "student_b = 1.5\n",
        "\n",
        "b = scipy.stats.norm.cdf(mnormal[:,1])\n",
        "b = scipy.stats.t.ppf(b, student_b)"
      ],
      "execution_count": null,
      "outputs": []
    },
    {
      "cell_type": "code",
      "metadata": {
        "id": "tGbCuyOrMo6W"
      },
      "source": [
        "gamma_c = 2\n",
        "\n",
        "c = scipy.stats.norm.cdf(mnormal[:,2])\n",
        "c = scipy.stats.gamma.ppf(c, gamma_c)"
      ],
      "execution_count": null,
      "outputs": []
    },
    {
      "cell_type": "code",
      "metadata": {
        "id": "2vW0AsXkOPLT"
      },
      "source": [
        "#常数取a+b+c的均值\n",
        "\n",
        "label = scipy.stats.norm.cdf(2 - a - b - c)"
      ],
      "execution_count": null,
      "outputs": []
    },
    {
      "cell_type": "code",
      "metadata": {
        "colab": {
          "base_uri": "https://localhost:8080/",
          "height": 265
        },
        "id": "EmX-OGTTQi1R",
        "outputId": "9dd2407f-5c89-4be5-9ef6-8f9c80e5d26d"
      },
      "source": [
        "plt.hist(label, bins=100, range=(0,1))\n",
        "plt.show()"
      ],
      "execution_count": null,
      "outputs": [
        {
          "output_type": "display_data",
          "data": {
            "image/png": "[encoded data removed]",
            "text/plain": [
              "<Figure size 432x288 with 1 Axes>"
            ]
          },
          "metadata": {
            "tags": [],
            "needs_background": "light"
          }
        }
      ]
    },
    {
      "cell_type": "code",
      "metadata": {
        "id": "g1YRH869OlBb"
      },
      "source": [
        "x_train = np.array([a,b,c]).T\n",
        "y_train = label.reshape(-1,1)"
      ],
      "execution_count": null,
      "outputs": []
    },
    {
      "cell_type": "code",
      "metadata": {
        "id": "zdnt_NniPpk8"
      },
      "source": [
        "mnormal_test = scipy.stats.multivariate_normal.rvs(cov=[[1,0.5,0.1],[0.5,1,-0.5],[0.1,-0.5,1]],size=size)"
      ],
      "execution_count": null,
      "outputs": []
    },
    {
      "cell_type": "code",
      "metadata": {
        "id": "VDWm0NEtPpk9"
      },
      "source": [
        "aa = mnormal_test[:,0]*lambda_1"
      ],
      "execution_count": null,
      "outputs": []
    },
    {
      "cell_type": "code",
      "metadata": {
        "id": "Y_QIGdKNPpk9"
      },
      "source": [
        "student_b = 1.5\n",
        "\n",
        "bb = scipy.stats.norm.cdf(mnormal_test[:,1])\n",
        "bb = scipy.stats.t.ppf(bb, student_b)"
      ],
      "execution_count": null,
      "outputs": []
    },
    {
      "cell_type": "code",
      "metadata": {
        "id": "WWPzdNlLPpk-"
      },
      "source": [
        "gamma_c = 2\n",
        "# upper_bound = 1000\n",
        "\n",
        "cc = scipy.stats.norm.cdf(mnormal_test[:,2])\n",
        "cc = scipy.stats.gamma.ppf(cc, gamma_c)\n",
        "cc = lambda_2 * np.exp(-cc)\n",
        "# cc[cc > upper_bound] = upper_bound"
      ],
      "execution_count": null,
      "outputs": []
    },
    {
      "cell_type": "code",
      "metadata": {
        "id": "PAjiebOLPpk-"
      },
      "source": [
        "label_test = scipy.stats.norm.cdf(2 - aa - bb - cc)"
      ],
      "execution_count": null,
      "outputs": []
    },
    {
      "cell_type": "code",
      "metadata": {
        "colab": {
          "base_uri": "https://localhost:8080/",
          "height": 265
        },
        "id": "TJ4uFoIKSn2G",
        "outputId": "5b528e5a-ce4b-4a41-80ae-e06862cb968c"
      },
      "source": [
        "plt.hist(label_test, bins=100, range=(0,1))\n",
        "plt.show()"
      ],
      "execution_count": null,
      "outputs": [
        {
          "output_type": "display_data",
          "data": {
            "image/png": "[encoded data removed]",
            "text/plain": [
              "<Figure size 432x288 with 1 Axes>"
            ]
          },
          "metadata": {
            "tags": [],
            "needs_background": "light"
          }
        }
      ]
    },
    {
      "cell_type": "code",
      "metadata": {
        "id": "4avNqYyHPpk-"
      },
      "source": [
        "x_test = np.array([aa,bb,cc]).T\n",
        "\n",
        "y_test = label_test.reshape(-1,1)"
      ],
      "execution_count": null,
      "outputs": []
    },
    {
      "cell_type": "code",
      "metadata": {
        "id": "i3POWXmg8dXe"
      },
      "source": [
        "x_train = torch.from_numpy(x_train).type(torch.Tensor)\n",
        "y_train = torch.from_numpy(y_train).type(torch.Tensor)\n",
        "\n",
        "x_test = torch.from_numpy(x_test).type(torch.Tensor)\n",
        "y_test = torch.from_numpy(y_test).type(torch.Tensor)"
      ],
      "execution_count": null,
      "outputs": []
    },
    {
      "cell_type": "code",
      "metadata": {
        "colab": {
          "base_uri": "https://localhost:8080/"
        },
        "id": "Mkkyz68pHDXU",
        "outputId": "735dfa3b-2bb8-4cda-f112-e7c86bf248b2"
      },
      "source": [
        "torch.mean(y_train).item()"
      ],
      "execution_count": null,
      "outputs": [
        {
          "output_type": "execute_result",
          "data": {
            "text/plain": [
              "0.5169036388397217"
            ]
          },
          "metadata": {
            "tags": []
          },
          "execution_count": 24
        }
      ]
    },
    {
      "cell_type": "code",
      "metadata": {
        "id": "F7CLfo3A9pj_"
      },
      "source": [
        "batch_size = 1000\n",
        "\n",
        "dataset_train = Data.TensorDataset(x_train, y_train)\n",
        "dataloader_train = Data.DataLoader(dataset_train, batch_size = batch_size, shuffle = True)\n",
        "\n",
        "dataset_test = Data.TensorDataset(x_test, y_test)\n",
        "dataloader_test = Data.DataLoader(dataset_test, batch_size = batch_size, shuffle = True)"
      ],
      "execution_count": null,
      "outputs": []
    },
    {
      "cell_type": "code",
      "metadata": {
        "id": "qFr8ZJew-C38",
        "colab": {
          "base_uri": "https://localhost:8080/"
        },
        "outputId": "80efd2bd-7319-48b6-dd53-95407395ece2"
      },
      "source": [
        "for step, (batch_x, batch_y) in enumerate(dataloader_train):\n",
        "    print('| Step: ', step, '| batch x: ',\n",
        "              batch_x.numpy().shape, '| batch y: ', batch_y.numpy().shape)\n",
        "\n",
        "for step, (batch_x, batch_y) in enumerate(dataloader_test):\n",
        "    print('| Step: ', step, '| batch x: ',\n",
        "              batch_x.numpy().shape, '| batch y: ', batch_y.numpy().shape)"
      ],
      "execution_count": null,
      "outputs": [
        {
          "output_type": "stream",
          "text": [
            "| Step:  0 | batch x:  (1000, 3) | batch y:  (1000, 1)\n",
            "| Step:  1 | batch x:  (1000, 3) | batch y:  (1000, 1)\n",
            "| Step:  2 | batch x:  (1000, 3) | batch y:  (1000, 1)\n",
            "| Step:  3 | batch x:  (1000, 3) | batch y:  (1000, 1)\n",
            "| Step:  4 | batch x:  (1000, 3) | batch y:  (1000, 1)\n",
            "| Step:  5 | batch x:  (1000, 3) | batch y:  (1000, 1)\n",
            "| Step:  6 | batch x:  (1000, 3) | batch y:  (1000, 1)\n",
            "| Step:  7 | batch x:  (1000, 3) | batch y:  (1000, 1)\n",
            "| Step:  8 | batch x:  (1000, 3) | batch y:  (1000, 1)\n",
            "| Step:  9 | batch x:  (1000, 3) | batch y:  (1000, 1)\n",
            "| Step:  0 | batch x:  (1000, 3) | batch y:  (1000, 1)\n",
            "| Step:  1 | batch x:  (1000, 3) | batch y:  (1000, 1)\n",
            "| Step:  2 | batch x:  (1000, 3) | batch y:  (1000, 1)\n",
            "| Step:  3 | batch x:  (1000, 3) | batch y:  (1000, 1)\n",
            "| Step:  4 | batch x:  (1000, 3) | batch y:  (1000, 1)\n",
            "| Step:  5 | batch x:  (1000, 3) | batch y:  (1000, 1)\n",
            "| Step:  6 | batch x:  (1000, 3) | batch y:  (1000, 1)\n",
            "| Step:  7 | batch x:  (1000, 3) | batch y:  (1000, 1)\n",
            "| Step:  8 | batch x:  (1000, 3) | batch y:  (1000, 1)\n",
            "| Step:  9 | batch x:  (1000, 3) | batch y:  (1000, 1)\n"
          ],
          "name": "stdout"
        }
      ]
    },
    {
      "cell_type": "markdown",
      "metadata": {
        "id": "m8Ix_-Kq5raY"
      },
      "source": [
        "##Test!"
      ]
    },
    {
      "cell_type": "markdown",
      "metadata": {
        "id": "HPeEF2NtoLZ6"
      },
      "source": [
        "--------------------------------------------"
      ]
    },
    {
      "cell_type": "code",
      "metadata": {
        "colab": {
          "base_uri": "https://localhost:8080/"
        },
        "id": "zj95t8r81Rgm",
        "outputId": "336bd3bf-b97d-4a2c-e9f3-9afe3a398f8f"
      },
      "source": [
        "torch.cuda.is_available()"
      ],
      "execution_count": null,
      "outputs": [
        {
          "output_type": "execute_result",
          "data": {
            "text/plain": [
              "False"
            ]
          },
          "metadata": {
            "tags": []
          },
          "execution_count": 19
        }
      ]
    },
    {
      "cell_type": "code",
      "metadata": {
        "id": "nffXDt_S-gbk"
      },
      "source": [
        "input_dim = 3\n",
        "hidden_dim = 16\n",
        "output_dim = 1\n",
        "num_epochs = 200"
      ],
      "execution_count": null,
      "outputs": []
    },
    {
      "cell_type": "code",
      "metadata": {
        "id": "55VgFM5l-Gwh"
      },
      "source": [
        "model = DANN(input_dim = input_dim, hidden_dim = hidden_dim, output_dim = output_dim)\n",
        "\n",
        "loss_fn = torch.nn.MSELoss()\n",
        "\n",
        "optimiser = torch.optim.Adam(model.parameters(), lr=0.01)"
      ],
      "execution_count": null,
      "outputs": []
    },
    {
      "cell_type": "code",
      "metadata": {
        "id": "B_x0dT7Z_Q80",
        "colab": {
          "base_uri": "https://localhost:8080/"
        },
        "outputId": "449af2b7-0a41-4a62-d4e8-c6c97e915dff"
      },
      "source": [
        "hist_train = np.zeros(num_epochs)\n",
        "hist_test = np.zeros(num_epochs)\n",
        "mape_train = np.zeros(num_epochs)\n",
        "mape_test = np.zeros(num_epochs)\n",
        "\n",
        "t_1 = 10\n",
        "t_2 = 1\n",
        "t_3 = 10\n",
        "\n",
        "best_loss = 1e2\n",
        "best_train_loss = 1e2\n",
        "best_test_mape = 1\n",
        "best_train_mape = 1\n",
        "\n",
        "endurance = 20\n",
        "counter = 0\n",
        "\n",
        "start = time.time()\n",
        "for t in range(num_epochs):\n",
        "\n",
        "    train_iter = iter(dataloader_train)\n",
        "    test_iter = iter(dataloader_test)\n",
        "\n",
        "    cur_train = 0\n",
        "    cur_test = 0\n",
        "    cur_mape_train = np.array([])\n",
        "    cur_mape_test = np.array([])\n",
        "\n",
        "    n = size // batch_size\n",
        "    for i in range(n):\n",
        "        x_train_iter, y_train_iter = train_iter.next()\n",
        "        x_test_iter, y_test_iter = test_iter.next()\n",
        "        # x_train_iter, y_train_iter = x_train_iter.to(DEVICE), y_train_iter.to(DEVICE)\n",
        "        # x_test_iter, y_test_iter = x_test_iter.to(DEVICE), y_test_iter.to(DEVICE)\n",
        "\n",
        "        marginal_div, copula_distance, y_train_pred = model(x_train_iter, x_test_iter)\n",
        "\n",
        "        \"\"\"\n",
        "        this part use divergence of total distributions\n",
        "        \"\"\"\n",
        "        # x, y = model.layer1(x_train_iter), model.layer1(x_test_iter)\n",
        "        # x, y = model.layer2(x), model.layer2(y)\n",
        "        # x, y = model.layer3(x), model.layer3(y)\n",
        "        # total_div = model.gaussian_kernel(x,y)\n",
        "        sqrt = torch.sqrt(loss_fn(y_train_pred, y_train_iter))\n",
        "        loss = t_1 * sqrt + t_2 * marginal_div + t_3 * copula_distance\n",
        "        if i - t % 10 == 0:\n",
        "            print(\"Epoch \", t, \"Batch \", i, \"Loss: \", loss.item(), \"RMSE: \", sqrt.item(), \"Marginal Div: \", marginal_div.item(), \"Copula Distance: \", copula_distance.item())\n",
        "        cur_train += loss_fn(y_train_pred, y_train_iter).item()\n",
        "        cur_mape_train = np.append(cur_mape_train ,(abs(y_train_pred - y_train_iter) / y_train_iter).detach().numpy())\n",
        "\n",
        "        optimiser.zero_grad() \n",
        "        loss.backward()\n",
        "        optimiser.step()\n",
        "    \n",
        "    \"\"\"\n",
        "    Test model performance on target\n",
        "    Freeze the coefficients at first then free them at last\n",
        "    \"\"\"\n",
        "    test_iter = iter(dataloader_test)\n",
        "    model.eval()\n",
        "    for i in range(n):\n",
        "        x_test_iter, y_test_iter = test_iter.next()\n",
        "        y_test_pred = model.predict(x_test_iter)\n",
        "        cur_test += loss_fn(y_test_pred, y_test_iter).item()\n",
        "        cur_mape_test = np.append(cur_mape_test, (abs(y_test_pred - y_test_iter) / y_test_iter).detach().numpy())\n",
        "    model.train()\n",
        "    \n",
        "    \"\"\"\n",
        "    RMSE and median APE of all train and test predictions\n",
        "    \"\"\"\n",
        "    hist_train[t] = np.sqrt(cur_train / n)\n",
        "    hist_test[t] = np.sqrt(cur_test / n)\n",
        "    mape_train[t] = np.nanmedian(cur_mape_train)\n",
        "    mape_test[t] = np.nanmedian(cur_mape_test)\n",
        "\n",
        "    if t % 10 == 0 and t !=0:\n",
        "         print(\"Epoch \", t, \"Train MAPE: \", mape_train[t], \"Test MAPE: \", mape_test[t])\n",
        "\n",
        "    \"\"\"\n",
        "    Early stop if model performance grows no better on test set for a while\n",
        "    Record the results when model performs the best\n",
        "    \"\"\"\n",
        "    if hist_test[t] < best_loss:\n",
        "        counter = 0\n",
        "        best_loss = hist_test[t]\n",
        "        best_train_loss = hist_train[t]\n",
        "        best_train_mape = mape_train[t]\n",
        "        best_test_mape = mape_test[t]\n",
        "    else:\n",
        "        counter += 1\n",
        "    if counter >= endurance:\n",
        "        print('Early stop at {}-th training with best test RMSE {}, train RMSE {}'.format(t, best_loss, best_train_loss))\n",
        "        print(\"At this time the Train/Test MAPE is: {} , {}\".format(best_train_mape, best_test_mape))\n",
        "        break\n",
        "\n",
        "end = time.time()\n",
        "print(\"Experiment cost {} seconds\".format(end - start))"
      ],
      "execution_count": null,
      "outputs": [
        {
          "output_type": "stream",
          "text": [
            "Epoch  0 Batch  0 Loss:  9.857231140136719 RMSE:  0.7300041317939758 Marginal Div:  0.03039591573178768 Copula Distance:  0.25267937779426575\n",
            "Epoch  1 Batch  1 Loss:  3.9799184799194336 RMSE:  0.3304963707923889 Marginal Div:  0.0053863804787397385 Copula Distance:  0.06695684790611267\n",
            "Epoch  2 Batch  2 Loss:  3.9324440956115723 RMSE:  0.25334206223487854 Marginal Div:  0.006574932020157576 Copula Distance:  0.13924485445022583\n",
            "Epoch  3 Batch  3 Loss:  2.9609246253967285 RMSE:  0.22341513633728027 Marginal Div:  0.007060403469949961 Copula Distance:  0.07197128981351852\n",
            "Epoch  4 Batch  4 Loss:  3.093454599380493 RMSE:  0.2461375743150711 Marginal Div:  0.0024203418288379908 Copula Distance:  0.06296584010124207\n",
            "Epoch  5 Batch  5 Loss:  3.5043153762817383 RMSE:  0.1804223209619522 Marginal Div:  0.011186404153704643 Copula Distance:  0.1688905656337738\n",
            "Epoch  6 Batch  6 Loss:  3.674168109893799 RMSE:  0.2316683828830719 Marginal Div:  0.003790650051087141 Copula Distance:  0.13536936044692993\n",
            "Epoch  7 Batch  7 Loss:  3.453866958618164 RMSE:  0.2259960025548935 Marginal Div:  0.005227052606642246 Copula Distance:  0.11886799335479736\n",
            "Epoch  8 Batch  8 Loss:  3.267960548400879 RMSE:  0.20055389404296875 Marginal Div:  0.004708501975983381 Copula Distance:  0.12577129900455475\n",
            "Epoch  9 Batch  9 Loss:  2.509631633758545 RMSE:  0.1689709573984146 Marginal Div:  0.0052423859015107155 Copula Distance:  0.08146798610687256\n",
            "Epoch  10 Batch  0 Loss:  2.675994873046875 RMSE:  0.1917504370212555 Marginal Div:  0.008077611215412617 Copula Distance:  0.07504129409790039\n",
            "Epoch  10 Train MAPE:  0.25071270763874054 Test MAPE:  0.3005646616220474\n",
            "Epoch  11 Batch  1 Loss:  2.672116994857788 RMSE:  0.1740248054265976 Marginal Div:  0.00509874802082777 Copula Distance:  0.09267701953649521\n",
            "Epoch  12 Batch  2 Loss:  2.5952444076538086 RMSE:  0.173818901181221 Marginal Div:  0.008035872131586075 Copula Distance:  0.08490196615457535\n",
            "Epoch  13 Batch  3 Loss:  2.466092586517334 RMSE:  0.18419744074344635 Marginal Div:  0.008640233427286148 Copula Distance:  0.06154780089855194\n",
            "Epoch  14 Batch  4 Loss:  2.3095126152038574 RMSE:  0.14918117225170135 Marginal Div:  0.011667624115943909 Copula Distance:  0.08060332387685776\n",
            "Epoch  15 Batch  5 Loss:  2.1189794540405273 RMSE:  0.1615392565727234 Marginal Div:  0.002218285109847784 Copula Distance:  0.05013685300946236\n",
            "Epoch  16 Batch  6 Loss:  1.6355572938919067 RMSE:  0.1274508237838745 Marginal Div:  0.006212471518665552 Copula Distance:  0.03548366203904152\n",
            "Epoch  17 Batch  7 Loss:  1.7626758813858032 RMSE:  0.1128595620393753 Marginal Div:  0.0014075227081775665 Copula Distance:  0.06326727569103241\n",
            "Epoch  18 Batch  8 Loss:  2.8992650508880615 RMSE:  0.1825120747089386 Marginal Div:  0.012776939198374748 Copula Distance:  0.1061367392539978\n",
            "Epoch  19 Batch  9 Loss:  2.003783702850342 RMSE:  0.12941016256809235 Marginal Div:  0.011725645512342453 Copula Distance:  0.0697956457734108\n",
            "Epoch  20 Batch  0 Loss:  1.7796945571899414 RMSE:  0.13423140347003937 Marginal Div:  0.015812911093235016 Copula Distance:  0.04215677082538605\n",
            "Epoch  20 Train MAPE:  0.17570731043815613 Test MAPE:  0.2199067547917366\n",
            "Epoch  21 Batch  1 Loss:  1.6983684301376343 RMSE:  0.11187780648469925 Marginal Div:  0.006144380196928978 Copula Distance:  0.05734459310770035\n",
            "Epoch  22 Batch  2 Loss:  2.124116897583008 RMSE:  0.11174655705690384 Marginal Div:  0.029354296624660492 Copula Distance:  0.09772969037294388\n",
            "Epoch  23 Batch  3 Loss:  1.923060655593872 RMSE:  0.09639798849821091 Marginal Div:  0.009121526032686234 Copula Distance:  0.09499593079090118\n",
            "Epoch  24 Batch  4 Loss:  1.1788444519042969 RMSE:  0.08990557491779327 Marginal Div:  0.01695283316075802 Copula Distance:  0.026283593848347664\n",
            "Epoch  25 Batch  5 Loss:  2.2030398845672607 RMSE:  0.08699117600917816 Marginal Div:  0.032772380858659744 Copula Distance:  0.13003557920455933\n",
            "Epoch  26 Batch  6 Loss:  3.1296000480651855 RMSE:  0.19033968448638916 Marginal Div:  0.11531529575586319 Copula Distance:  0.11108878999948502\n",
            "Epoch  27 Batch  7 Loss:  1.7358241081237793 RMSE:  0.0908844918012619 Marginal Div:  0.0154020506888628 Copula Distance:  0.08115771412849426\n",
            "Epoch  28 Batch  8 Loss:  2.0911500453948975 RMSE:  0.11971888691186905 Marginal Div:  0.08230069279670715 Copula Distance:  0.08116605877876282\n",
            "Epoch  29 Batch  9 Loss:  1.164947509765625 RMSE:  0.0748591274023056 Marginal Div:  0.03941262513399124 Copula Distance:  0.03769436106085777\n",
            "Epoch  30 Batch  0 Loss:  1.6937127113342285 RMSE:  0.123977892100811 Marginal Div:  0.01271616481244564 Copula Distance:  0.04412176087498665\n",
            "Epoch  30 Train MAPE:  0.12336141988635063 Test MAPE:  0.21004147082567215\n",
            "Epoch  31 Batch  1 Loss:  1.7922732830047607 RMSE:  0.09050033241510391 Marginal Div:  0.026338772848248482 Copula Distance:  0.08609312027692795\n",
            "Epoch  32 Batch  2 Loss:  0.9103461503982544 RMSE:  0.07366044819355011 Marginal Div:  0.005578392185270786 Copula Distance:  0.016816331073641777\n",
            "Epoch  33 Batch  3 Loss:  1.192215919494629 RMSE:  0.06760253012180328 Marginal Div:  0.023345593363046646 Copula Distance:  0.04928451031446457\n",
            "Epoch  34 Batch  4 Loss:  1.3358495235443115 RMSE:  0.07100389897823334 Marginal Div:  0.006594880484044552 Copula Distance:  0.06192156299948692\n",
            "Epoch  35 Batch  5 Loss:  1.3791851997375488 RMSE:  0.058899711817502975 Marginal Div:  0.00792174506932497 Copula Distance:  0.07822664082050323\n",
            "Epoch  36 Batch  6 Loss:  1.1568074226379395 RMSE:  0.07301947474479675 Marginal Div:  0.02235385775566101 Copula Distance:  0.04042588174343109\n",
            "Epoch  37 Batch  7 Loss:  1.0974488258361816 RMSE:  0.06359205394983292 Marginal Div:  0.010557740926742554 Copula Distance:  0.04509706050157547\n",
            "Epoch  38 Batch  8 Loss:  0.8824037909507751 RMSE:  0.042767904698848724 Marginal Div:  0.008736427873373032 Copula Distance:  0.04459882900118828\n",
            "Epoch  39 Batch  9 Loss:  2.7690188884735107 RMSE:  0.21095511317253113 Marginal Div:  0.08787816762924194 Copula Distance:  0.0571589395403862\n",
            "Epoch  40 Batch  0 Loss:  1.249511480331421 RMSE:  0.04605892300605774 Marginal Div:  0.00279848650097847 Copula Distance:  0.07861237227916718\n",
            "Epoch  40 Train MAPE:  0.135994054377079 Test MAPE:  0.17305956035852432\n",
            "Epoch  41 Batch  1 Loss:  0.88579922914505 RMSE:  0.051385898143053055 Marginal Div:  0.0029258327558636665 Copula Distance:  0.03690144419670105\n",
            "Epoch  42 Batch  2 Loss:  1.4104211330413818 RMSE:  0.04983126372098923 Marginal Div:  0.010418877005577087 Copula Distance:  0.09016896784305573\n",
            "Epoch  43 Batch  3 Loss:  1.581016182899475 RMSE:  0.07406514137983322 Marginal Div:  0.003549475921317935 Copula Distance:  0.08368153125047684\n",
            "Epoch  44 Batch  4 Loss:  1.7060546875 RMSE:  0.1362558901309967 Marginal Div:  0.011613056063652039 Copula Distance:  0.03318827971816063\n",
            "Epoch  45 Batch  5 Loss:  3.150496006011963 RMSE:  0.2405361384153366 Marginal Div:  0.07066134363412857 Copula Distance:  0.06744733452796936\n",
            "Epoch  46 Batch  6 Loss:  3.6860413551330566 RMSE:  0.2719293534755707 Marginal Div:  0.015037508681416512 Copula Distance:  0.09517102688550949\n",
            "Epoch  47 Batch  7 Loss:  2.406619071960449 RMSE:  0.19413429498672485 Marginal Div:  0.13262240588665009 Copula Distance:  0.0332653671503067\n",
            "Epoch  48 Batch  8 Loss:  2.9995651245117188 RMSE:  0.1918460577726364 Marginal Div:  0.11456960439682007 Copula Distance:  0.09665348380804062\n",
            "Epoch  49 Batch  9 Loss:  1.7641347646713257 RMSE:  0.08937280625104904 Marginal Div:  0.018189555034041405 Copula Distance:  0.08522171527147293\n",
            "Epoch  50 Batch  0 Loss:  1.59962797164917 RMSE:  0.0997542291879654 Marginal Div:  0.030898507684469223 Copula Distance:  0.057118721306324005\n",
            "Epoch  50 Train MAPE:  0.11441653221845627 Test MAPE:  0.19394852221012115\n",
            "Epoch  51 Batch  1 Loss:  1.175639271736145 RMSE:  0.05749591439962387 Marginal Div:  0.039845604449510574 Copula Distance:  0.056083451956510544\n",
            "Epoch  52 Batch  2 Loss:  0.9895765781402588 RMSE:  0.053437940776348114 Marginal Div:  0.003915028180927038 Copula Distance:  0.04512821137905121\n",
            "Epoch  53 Batch  3 Loss:  0.9109333753585815 RMSE:  0.06315961480140686 Marginal Div:  0.04358944296836853 Copula Distance:  0.02357478253543377\n",
            "Epoch  54 Batch  4 Loss:  1.001373529434204 RMSE:  0.06016629934310913 Marginal Div:  0.017264485359191895 Copula Distance:  0.03824461251497269\n",
            "Epoch  55 Batch  5 Loss:  0.915505051612854 RMSE:  0.06756144762039185 Marginal Div:  0.019764140248298645 Copula Distance:  0.02201264724135399\n",
            "Epoch  56 Batch  6 Loss:  1.097711443901062 RMSE:  0.05842110887169838 Marginal Div:  0.020202355459332466 Copula Distance:  0.04932980239391327\n",
            "Epoch  57 Batch  7 Loss:  1.7599520683288574 RMSE:  0.09304267913103104 Marginal Div:  0.10608526319265366 Copula Distance:  0.07234401255846024\n",
            "Epoch  58 Batch  8 Loss:  1.3936522006988525 RMSE:  0.09737162292003632 Marginal Div:  0.08710063248872757 Copula Distance:  0.033283527940511703\n",
            "Epoch  59 Batch  9 Loss:  0.9359474182128906 RMSE:  0.04614980146288872 Marginal Div:  0.04021666944026947 Copula Distance:  0.04342327266931534\n",
            "Epoch  60 Batch  0 Loss:  1.4847546815872192 RMSE:  0.04782063513994217 Marginal Div:  0.024033600464463234 Copula Distance:  0.09825147688388824\n",
            "Epoch  60 Train MAPE:  0.11006790772080421 Test MAPE:  0.1738901063799858\n",
            "Epoch  61 Batch  1 Loss:  1.1926467418670654 RMSE:  0.059551022946834564 Marginal Div:  0.0033808392472565174 Copula Distance:  0.059375569224357605\n",
            "Epoch  62 Batch  2 Loss:  1.4950501918792725 RMSE:  0.077076755464077 Marginal Div:  0.014773296192288399 Copula Distance:  0.07095092535018921\n",
            "Epoch  63 Batch  3 Loss:  3.415958881378174 RMSE:  0.26168274879455566 Marginal Div:  0.0862165316939354 Copula Distance:  0.0712914913892746\n",
            "Epoch  64 Batch  4 Loss:  1.0510648488998413 RMSE:  0.06505250930786133 Marginal Div:  0.014459650032222271 Copula Distance:  0.03860800713300705\n",
            "Epoch  65 Batch  5 Loss:  0.8408563137054443 RMSE:  0.06100025400519371 Marginal Div:  0.0031185694970190525 Copula Distance:  0.022773519158363342\n",
            "Epoch  66 Batch  6 Loss:  1.910596489906311 RMSE:  0.14052267372608185 Marginal Div:  0.0030636899173259735 Copula Distance:  0.050230611115694046\n",
            "Epoch  67 Batch  7 Loss:  0.6937139630317688 RMSE:  0.03109721839427948 Marginal Div:  0.004645332228392363 Copula Distance:  0.037809647619724274\n",
            "Epoch  68 Batch  8 Loss:  0.5845274329185486 RMSE:  0.04132697731256485 Marginal Div:  0.0467321053147316 Copula Distance:  0.012452558614313602\n",
            "Epoch  69 Batch  9 Loss:  2.4941813945770264 RMSE:  0.19547732174396515 Marginal Div:  0.1324622929096222 Copula Distance:  0.04069458693265915\n",
            "Epoch  70 Batch  0 Loss:  1.1043977737426758 RMSE:  0.08882248401641846 Marginal Div:  0.06137919798493385 Copula Distance:  0.015479378402233124\n",
            "Epoch  70 Train MAPE:  0.12343351915478706 Test MAPE:  0.1556137278676033\n",
            "Epoch  71 Batch  1 Loss:  3.067415237426758 RMSE:  0.2604186236858368 Marginal Div:  0.012497954070568085 Copula Distance:  0.045073095709085464\n",
            "Epoch  72 Batch  2 Loss:  2.6438710689544678 RMSE:  0.2062862664461136 Marginal Div:  0.14434553682804108 Copula Distance:  0.043666284531354904\n",
            "Epoch  73 Batch  3 Loss:  1.4048819541931152 RMSE:  0.07246913760900497 Marginal Div:  0.0018798664677888155 Copula Distance:  0.06783107668161392\n",
            "Epoch  74 Batch  4 Loss:  2.863043785095215 RMSE:  0.25283360481262207 Marginal Div:  0.024964865297079086 Copula Distance:  0.030974285677075386\n",
            "Epoch  75 Batch  5 Loss:  2.076958656311035 RMSE:  0.19087572395801544 Marginal Div:  0.010723311454057693 Copula Distance:  0.01574781723320484\n",
            "Epoch  76 Batch  6 Loss:  0.7668381333351135 RMSE:  0.05416662618517876 Marginal Div:  0.05635174736380577 Copula Distance:  0.016882015392184258\n",
            "Epoch  77 Batch  7 Loss:  0.8064565658569336 RMSE:  0.05252692103385925 Marginal Div:  0.04563385993242264 Copula Distance:  0.023555349558591843\n",
            "Epoch  78 Batch  8 Loss:  1.4705063104629517 RMSE:  0.09079886972904205 Marginal Div:  0.10080792754888535 Copula Distance:  0.04617097228765488\n",
            "Early stop at 78-th training with best test RMSE 0.07168759781796284, train RMSE 0.10624859381413121\n",
            "At this time the Train/Test MAPE is: 0.10749621316790581 , 0.08063481003046036\n",
            "Experiment cost 525.6313483715057 seconds\n"
          ],
          "name": "stdout"
        }
      ]
    },
    {
      "cell_type": "code",
      "metadata": {
        "colab": {
          "base_uri": "https://localhost:8080/"
        },
        "id": "rPJj4phrg7TK",
        "outputId": "59f30e1d-65a8-497f-9b25-bffefe7a1e2c"
      },
      "source": [
        "print(best_loss, best_train_loss, best_train_mape, best_test_mape)"
      ],
      "execution_count": null,
      "outputs": [
        {
          "output_type": "stream",
          "text": [
            "0.07168759781796284 0.10624859381413121 0.10749621316790581 0.08063481003046036\n"
          ],
          "name": "stdout"
        }
      ]
    },
    {
      "cell_type": "code",
      "metadata": {
        "colab": {
          "base_uri": "https://localhost:8080/",
          "height": 265
        },
        "id": "Yyvo-ecLjp1U",
        "outputId": "de057f40-e596-43cc-cd92-5b79a58a1e7d"
      },
      "source": [
        "#result of the DA model\n",
        "plt.plot(hist_train[hist_train > 0], label=\"Train RMSE\")\n",
        "plt.plot(hist_test[hist_test > 0], label=\"Test RMSE\")\n",
        "plt.legend()\n",
        "plt.show()"
      ],
      "execution_count": null,
      "outputs": [
        {
          "output_type": "display_data",
          "data": {
            "image/png": "[encoded data removed]",
            "text/plain": [
              "<Figure size 432x288 with 1 Axes>"
            ]
          },
          "metadata": {
            "tags": [],
            "needs_background": "light"
          }
        }
      ]
    },
    {
      "cell_type": "code",
      "metadata": {
        "colab": {
          "base_uri": "https://localhost:8080/"
        },
        "id": "-kbMJ2xvETJl",
        "outputId": "c52c6f0c-1059-4b71-a245-77800bec99fe"
      },
      "source": [
        "print(np.mean(hist_train[hist_train > 0][-10:]), np.mean(hist_test[hist_test > 0][-10:]))"
      ],
      "execution_count": null,
      "outputs": [
        {
          "output_type": "stream",
          "text": [
            "0.05950530613321089 0.09157783004607242\n"
          ],
          "name": "stdout"
        }
      ]
    },
    {
      "cell_type": "code",
      "metadata": {
        "colab": {
          "base_uri": "https://localhost:8080/"
        },
        "id": "GDUMII2rBRfJ",
        "outputId": "92346198-d5b3-4995-a8d6-89e7fc24ca8b"
      },
      "source": [
        "print(np.nanmedian((abs(y_train_pred - y_train_iter) / y_train_iter).detach().numpy()),\n",
        "np.nanmedian((abs(y_test_pred - y_test_iter) / y_test_iter).detach().numpy()))"
      ],
      "execution_count": null,
      "outputs": [
        {
          "output_type": "stream",
          "text": [
            "0.11189182 0.1571007\n"
          ],
          "name": "stdout"
        }
      ]
    },
    {
      "cell_type": "code",
      "metadata": {
        "colab": {
          "base_uri": "https://localhost:8080/"
        },
        "id": "Kp3KDnseH-zE",
        "outputId": "5e81a976-3859-485d-9d63-860d0604e48e"
      },
      "source": [
        "x = model.layer1(x_train.to(DEVICE))\n",
        "x = model.layer2(x)\n",
        "x = model.layer3(x)\n",
        "x"
      ],
      "execution_count": null,
      "outputs": [
        {
          "output_type": "execute_result",
          "data": {
            "text/plain": [
              "tensor([[0.0503, 0.0000, 0.0198,  ..., 0.0000, 0.0270, 0.0000],\n",
              "        [0.0000, 0.0000, 0.0547,  ..., 0.0000, 0.0000, 0.0000],\n",
              "        [0.0000, 0.0000, 0.0380,  ..., 0.0000, 0.0000, 0.0000],\n",
              "        ...,\n",
              "        [0.0000, 0.0000, 0.0539,  ..., 0.0000, 0.0000, 0.0000],\n",
              "        [0.0000, 0.0000, 0.0523,  ..., 0.0000, 0.0000, 0.0000],\n",
              "        [0.0000, 0.0000, 0.0277,  ..., 0.0000, 0.0000, 0.0000]],\n",
              "       device='cuda:0', grad_fn=<ReluBackward0>)"
            ]
          },
          "metadata": {
            "tags": []
          },
          "execution_count": 62
        }
      ]
    },
    {
      "cell_type": "code",
      "metadata": {
        "colab": {
          "base_uri": "https://localhost:8080/"
        },
        "id": "Ro6N-BHkIbd1",
        "outputId": "390cd9a7-46c3-4b91-9d3f-3fba6be1cfe4"
      },
      "source": [
        "parm = {}\n",
        "for name,parameters in model.named_parameters():\n",
        "    print(name,':',parameters.size())\n",
        "    parm[name]=parameters.cpu().detach().numpy()"
      ],
      "execution_count": null,
      "outputs": [
        {
          "output_type": "stream",
          "text": [
            "layer1.0.weight : torch.Size([32, 3])\n",
            "layer1.0.bias : torch.Size([32])\n",
            "layer2.0.weight : torch.Size([16, 32])\n",
            "layer2.0.bias : torch.Size([16])\n",
            "layer3.0.weight : torch.Size([8, 16])\n",
            "layer3.0.bias : torch.Size([8])\n",
            "layer4.weight : torch.Size([1, 8])\n",
            "layer4.bias : torch.Size([1])\n"
          ],
          "name": "stdout"
        }
      ]
    },
    {
      "cell_type": "code",
      "metadata": {
        "id": "hhUDjMW0JDAE"
      },
      "source": [
        "print(parm)"
      ],
      "execution_count": null,
      "outputs": []
    },
    {
      "cell_type": "markdown",
      "metadata": {
        "id": "mJi34AxkvjcF"
      },
      "source": [
        "-change model structure, number of layers, units, and lr\n",
        "\n",
        "-compare with MMD of total distribution\n",
        "\n",
        "-change trade-off coefficients"
      ]
    }
  ]
}